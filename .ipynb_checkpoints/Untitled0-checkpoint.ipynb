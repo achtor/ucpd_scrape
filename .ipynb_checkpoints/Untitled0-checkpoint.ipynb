{
 "metadata": {
  "name": "",
  "signature": "sha256:0a47362ca9c6997c6387ca480e3874ea38832567eee57e366394015637e7bb7c"
 },
 "nbformat": 3,
 "nbformat_minor": 0,
 "worksheets": []
}